{
 "cells": [
  {
   "cell_type": "markdown",
   "metadata": {},
   "source": [
    "# Create a map of all the substations"
   ]
  },
  {
   "cell_type": "code",
   "execution_count": null,
   "metadata": {},
   "outputs": [],
   "source": [
    "import geopandas as gpd\n",
    "import pandas as pd\n",
    "\n",
    "settlement_period = pd.Timestamp(\"2024-07-14 20:00Z\")\n",
    "\n",
    "gdf = gpd.read_parquet(\"s3://weave.energy/smart-meter\", filters=[(\"data_collection_log_timestamp\", \"=\", settlement_period)])\n",
    "substations = gdf.groupby([\"secondary_substation_unique_id\", \"geometry\", \"dno_alias\"], as_index=False).agg({\"lv_feeder_unique_id\": list})\n",
    "substations = gpd.GeoDataFrame(substations)\n",
    "substations.explore(column=\"dno_alias\", tooltip=[\"dno_alias\", \"secondary_substation_unique_id\", \"lv_feeder_unique_id\"], popup=[\"dno_alias\", \"secondary_substation_unique_id\", \"lv_feeder_unique_id\"])"
   ]
  }
 ],
 "metadata": {
  "kernelspec": {
   "display_name": ".venv",
   "language": "python",
   "name": "python3"
  },
  "language_info": {
   "codemirror_mode": {
    "name": "ipython",
    "version": 3
   },
   "file_extension": ".py",
   "mimetype": "text/x-python",
   "name": "python",
   "nbconvert_exporter": "python",
   "pygments_lexer": "ipython3",
   "version": "3.12.7"
  }
 },
 "nbformat": 4,
 "nbformat_minor": 2
}
